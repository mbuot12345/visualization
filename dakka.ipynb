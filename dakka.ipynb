{
 "cells": [
  {
   "cell_type": "markdown",
   "id": "9e45de81",
   "metadata": {},
   "source": [
    "\n",
    "\n",
    "      ## Web scrabing"
   ]
  },
  {
   "cell_type": "code",
   "execution_count": null,
   "id": "59695154",
   "metadata": {},
   "outputs": [],
   "source": []
  },
  {
   "cell_type": "code",
   "execution_count": 1,
   "id": "79dae5ff",
   "metadata": {},
   "outputs": [
    {
     "name": "stdout",
     "output_type": "stream",
     "text": [
      "{'Track Name': 'Data Science', 'Hall Number': 'Conference 002', 'Class Size': '38 Students', 'Instructor Name': 'Kingsley'}\n"
     ]
    }
   ],
   "source": [
    "myDict = {\n",
    "    \"Track Name\":\"Data Science\",\n",
    "    \"Hall Number\":\"Conference 002\",\n",
    "    \"Class Size\":\"38 Students\",\n",
    "    \"Instructor Name\":\"Kingsley\",\n",
    "  \n",
    "}\n",
    "print(myDict)"
   ]
  },
  {
   "cell_type": "code",
   "execution_count": 2,
   "id": "d86ce4f1",
   "metadata": {},
   "outputs": [
    {
     "name": "stdout",
     "output_type": "stream",
     "text": [
      "Monday    1\n",
      "Tuesday    2\n",
      "Wednesday  3\n",
      "Thursday   4\n",
      "Friday     5\n",
      "Saturday   6\n",
      "Sunday     7\n"
     ]
    }
   ],
   "source": [
    "# Getting a textfile\n",
    "myFile = open(r'C:\\Users\\Mbuotidem urom\\dakkada bootcam practice\\weekDays.txt')\n",
    "print(myFile.read())"
   ]
  },
  {
   "cell_type": "code",
   "execution_count": null,
   "id": "53a949ff",
   "metadata": {},
   "outputs": [],
   "source": []
  }
 ],
 "metadata": {
  "kernelspec": {
   "display_name": "Python 3",
   "language": "python",
   "name": "python3"
  },
  "language_info": {
   "codemirror_mode": {
    "name": "ipython",
    "version": 3
   },
   "file_extension": ".py",
   "mimetype": "text/x-python",
   "name": "python",
   "nbconvert_exporter": "python",
   "pygments_lexer": "ipython3",
   "version": "3.8.8"
  }
 },
 "nbformat": 4,
 "nbformat_minor": 5
}
