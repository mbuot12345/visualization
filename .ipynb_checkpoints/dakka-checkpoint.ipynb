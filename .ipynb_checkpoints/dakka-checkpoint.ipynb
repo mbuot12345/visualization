{
 "cells": [
  {
   "cell_type": "markdown",
   "id": "cfcdd980",
   "metadata": {},
   "source": [
    "## Web scrabing"
   ]
  },
  {
   "cell_type": "code",
   "execution_count": 4,
   "id": "a3097ff7",
   "metadata": {},
   "outputs": [
    {
     "name": "stdout",
     "output_type": "stream",
     "text": [
      "{'Track Name': 'Data Science', 'Hall Number': 'Conference 002', 'Class Size': '38 Students', 'Instructor Name': 'Kingsley'}\n"
     ]
    }
   ],
   "source": [
    "myDict = {\n",
    "    \"Track Name\":\"Data Science\",\n",
    "    \"Hall Number\":\"Conference 002\",\n",
    "    \"Class Size\":\"38 Students\",\n",
    "    \"Instructor Name\":\"Kingsley\",\n",
    "  \n",
    "}\n",
    "print(myDict)"
   ]
  },
  {
   "cell_type": "code",
   "execution_count": null,
   "id": "10dacb46",
   "metadata": {},
   "outputs": [],
   "source": []
  }
 ],
 "metadata": {
  "kernelspec": {
   "display_name": "Python 3",
   "language": "python",
   "name": "python3"
  },
  "language_info": {
   "codemirror_mode": {
    "name": "ipython",
    "version": 3
   },
   "file_extension": ".py",
   "mimetype": "text/x-python",
   "name": "python",
   "nbconvert_exporter": "python",
   "pygments_lexer": "ipython3",
   "version": "3.8.8"
  }
 },
 "nbformat": 4,
 "nbformat_minor": 5
}
